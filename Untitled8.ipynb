{
 "cells": [
  {
   "cell_type": "code",
   "execution_count": 1,
   "metadata": {},
   "outputs": [],
   "source": [
    "import pandas as pd\n",
    "data = pd.read_csv(\"경매장_원핫인코딩_3.csv\", encoding = 'CP949')\n",
    "data = data.drop('Tier',axis = 1)"
   ]
  },
  {
   "cell_type": "code",
   "execution_count": 2,
   "metadata": {},
   "outputs": [],
   "source": [
    "data1 = data[data['Rank_희귀']>0].reset_index().iloc[:,1:].drop(['Rank_희귀','Rank_영웅', 'Rank_전설', 'Rank_유물','Part_귀걸이','Part_목걸이','Part_반지'],axis = 1)\n",
    "data2 = data[data['Rank_영웅']>0].reset_index().iloc[:,1:].drop(['Rank_희귀','Rank_영웅', 'Rank_전설', 'Rank_유물','Part_귀걸이','Part_목걸이','Part_반지'],axis = 1)\n",
    "data3 = data[data['Rank_전설']>0].reset_index().iloc[:,1:].drop(['Rank_희귀','Rank_영웅', 'Rank_전설', 'Rank_유물','Part_귀걸이','Part_목걸이','Part_반지'],axis = 1)\n",
    "data4 = data[data['Rank_유물']>0].reset_index().iloc[:,1:].drop(['Rank_희귀','Rank_영웅', 'Rank_전설', 'Rank_유물','Part_귀걸이','Part_목걸이','Part_반지'],axis = 1)"
   ]
  },
  {
   "cell_type": "code",
   "execution_count": 3,
   "metadata": {},
   "outputs": [
    {
     "name": "stdout",
     "output_type": "stream",
     "text": [
      "1256 40929 84543 127907\n"
     ]
    }
   ],
   "source": [
    "data = data.drop(['Rank_희귀','Rank_영웅', 'Rank_전설', 'Rank_유물','Part_귀걸이','Part_목걸이','Part_반지'],axis = 1)\n",
    "\n",
    "print(len(data1), len(data2), len(data3), len(data4))"
   ]
  },
  {
   "cell_type": "code",
   "execution_count": 5,
   "metadata": {},
   "outputs": [],
   "source": [
    "import pickle\n",
    "import numpy as np\n",
    "import pandas as pd\n",
    "\n",
    "from sklearn import tree\n",
    "from sklearn.tree import DecisionTreeRegressor\n",
    "from sklearn.preprocessing import StandardScaler\n",
    "\n",
    "\n",
    "from sklearn.model_selection import GridSearchCV, train_test_split, KFold\n",
    "from sklearn.metrics import accuracy_score, confusion_matrix, classification_report, mean_squared_error\n",
    "\n",
    "def SplitData(df):  \n",
    "    target = 'Last_price'\n",
    "    X = df.drop(target, axis = 1)\n",
    "    y = df[target]\n",
    "\n",
    "    return train_test_split(X,y, test_size = 0.2, shuffle = True, random_state = 1020)\n"
   ]
  },
  {
   "cell_type": "code",
   "execution_count": 6,
   "metadata": {},
   "outputs": [],
   "source": [
    "def SplitData(df):  \n",
    "    target = 'Last_price'\n",
    "    X = df.drop(target, axis = 1)\n",
    "    y = df[target]\n",
    "\n",
    "    return train_test_split(X,y, test_size = 0.2, shuffle = True, random_state = 1020)\n"
   ]
  },
  {
   "cell_type": "code",
   "execution_count": 7,
   "metadata": {},
   "outputs": [],
   "source": [
    "X_train, X_test, Y_train, Y_test = SplitData(data)"
   ]
  },
  {
   "cell_type": "code",
   "execution_count": 8,
   "metadata": {},
   "outputs": [],
   "source": [
    "def model_train(data) :\n",
    "    X_train, X_test, Y_train, Y_test = SplitData(data)\n",
    "    parameters = {\n",
    "    'max_depth': [3,4,5,6,7,8,9, 12],\n",
    "    'min_samples_split': [0.01, 0.05, 0.1,0.5],\n",
    "    }\n",
    "\n",
    "    # 사용할 모델\n",
    "    model = DecisionTreeRegressor()\n",
    "    # define grid_search\n",
    "    kf = KFold(n_splits=10, shuffle=True)\n",
    "    grid_search = GridSearchCV(estimator = model, \n",
    "                               param_grid = parameters, \n",
    "                               cv = 3, \n",
    "                               n_jobs =- 1, \n",
    "                               verbose = 2\n",
    "                              )\n",
    "    grid_search.fit(X_train,Y_train)\n",
    "    sel_model = grid_search.best_estimator_\n",
    "    y_pred = sel_model.predict(X_test)\n",
    "    RMSE = mean_squared_error(Y_test, y_pred)**0.5\n",
    "    return sel_model, RMSE\n",
    "\n",
    "\n",
    "def model_test(model, x, y) :\n",
    "    y_pred = model.predict(x)\n",
    "    RMSE = mean_squared_error(y, y_pred)**0.5\n",
    "    return RMSE"
   ]
  },
  {
   "cell_type": "code",
   "execution_count": 9,
   "metadata": {},
   "outputs": [
    {
     "name": "stdout",
     "output_type": "stream",
     "text": [
      "Fitting 3 folds for each of 32 candidates, totalling 96 fits\n"
     ]
    }
   ],
   "source": [
    "m, rmse = model_train(data)\n"
   ]
  },
  {
   "cell_type": "code",
   "execution_count": 10,
   "metadata": {},
   "outputs": [],
   "source": [
    "def make_xy(data) :\n",
    "    target = 'Last_price'\n",
    "    y = data[target]\n",
    "    x = data.drop(target, axis = 1)\n",
    "    return x,y"
   ]
  },
  {
   "cell_type": "code",
   "execution_count": 11,
   "metadata": {},
   "outputs": [
    {
     "data": {
      "text/plain": [
       "3785.1024763777104"
      ]
     },
     "execution_count": 11,
     "metadata": {},
     "output_type": "execute_result"
    }
   ],
   "source": [
    "x1, y1 = make_xy(data1)\n",
    "model_test(m, x1, y1)"
   ]
  },
  {
   "cell_type": "code",
   "execution_count": 12,
   "metadata": {},
   "outputs": [
    {
     "data": {
      "text/plain": [
       "445.83750393175967"
      ]
     },
     "execution_count": 12,
     "metadata": {},
     "output_type": "execute_result"
    }
   ],
   "source": [
    "x2, y2 = make_xy(data2) \n",
    "model_test(m, x2, y2)"
   ]
  },
  {
   "cell_type": "code",
   "execution_count": 13,
   "metadata": {},
   "outputs": [
    {
     "data": {
      "text/plain": [
       "419.03159557003704"
      ]
     },
     "execution_count": 13,
     "metadata": {},
     "output_type": "execute_result"
    }
   ],
   "source": [
    "x3, y3 = make_xy(data3)\n",
    "model_test(m, x3, y3)"
   ]
  },
  {
   "cell_type": "code",
   "execution_count": 14,
   "metadata": {},
   "outputs": [
    {
     "data": {
      "text/plain": [
       "3725.393871779513"
      ]
     },
     "execution_count": 14,
     "metadata": {},
     "output_type": "execute_result"
    }
   ],
   "source": [
    "x4, y4 = make_xy(data4)\n",
    "model_test(m, x4, y4)"
   ]
  },
  {
   "cell_type": "code",
   "execution_count": 15,
   "metadata": {},
   "outputs": [
    {
     "name": "stdout",
     "output_type": "stream",
     "text": [
      "Fitting 3 folds for each of 32 candidates, totalling 96 fits\n",
      "Fitting 3 folds for each of 32 candidates, totalling 96 fits\n",
      "Fitting 3 folds for each of 32 candidates, totalling 96 fits\n",
      "Fitting 3 folds for each of 32 candidates, totalling 96 fits\n"
     ]
    }
   ],
   "source": [
    "m1, rmse1 = model_train(data1)\n",
    "m2, rmse2 = model_train(data2)\n",
    "m3, rmse3 = model_train(data3)\n",
    "m4, rmse4 = model_train(data4)"
   ]
  },
  {
   "cell_type": "code",
   "execution_count": 16,
   "metadata": {},
   "outputs": [
    {
     "name": "stdout",
     "output_type": "stream",
     "text": [
      "4641.713201666951 230.63805402257694 372.3324087873735 3090.653567900458\n"
     ]
    }
   ],
   "source": [
    "'''\n",
    "RMSE가 모델별로 확연히 낮아졌다는걸 알 수 있다.\n",
    "'''\n",
    "print(rmse1, rmse2, rmse3, rmse4)\n"
   ]
  },
  {
   "cell_type": "code",
   "execution_count": 17,
   "metadata": {},
   "outputs": [],
   "source": [
    "import pickle\n",
    "\n",
    "#data1\n",
    "pickle.dump(m, open('희귀_model.pkl','wb'))\n",
    "#data2\n",
    "pickle.dump(m2, open('영웅_model.pkl','wb'))\n",
    "#data3\n",
    "pickle.dump(m3, open('전설_model.pkl','wb'))\n",
    "#data4\n",
    "pickle.dump(m4, open('유물_model.pkl','wb'))"
   ]
  },
  {
   "cell_type": "code",
   "execution_count": null,
   "metadata": {},
   "outputs": [],
   "source": []
  },
  {
   "cell_type": "code",
   "execution_count": 18,
   "metadata": {},
   "outputs": [],
   "source": [
    "d = {'Name': '12', 'Rank': '전설', 'Transaction_count': '1', 'Quality': '1', 'First_price': '1', '갈증': '3', '강령술': '2', '구슬동자': '4', '': ''}"
   ]
  },
  {
   "cell_type": "code",
   "execution_count": 19,
   "metadata": {},
   "outputs": [],
   "source": [
    "import pickle\n",
    "import joblib\n",
    "model_normal = joblib.load('희귀_model.pkl')"
   ]
  },
  {
   "cell_type": "code",
   "execution_count": 20,
   "metadata": {},
   "outputs": [],
   "source": [
    "y_pred = model_normal.predict(X_train)"
   ]
  },
  {
   "cell_type": "code",
   "execution_count": 21,
   "metadata": {},
   "outputs": [
    {
     "data": {
      "text/plain": [
       "2658.143164036134"
      ]
     },
     "execution_count": 21,
     "metadata": {},
     "output_type": "execute_result"
    }
   ],
   "source": [
    "model_test(model_normal, X_train, Y_train)"
   ]
  },
  {
   "cell_type": "code",
   "execution_count": 22,
   "metadata": {},
   "outputs": [
    {
     "data": {
      "text/plain": [
       "array([  235.60318237,   235.60318237, 20004.17982989, 23919.94813203,\n",
       "         235.60318237,  2949.71889908,   784.5424668 ,  2544.89508153,\n",
       "         235.60318237, 28667.30527722,   235.60318237,   235.60318237,\n",
       "        2949.71889908,   235.60318237,  6491.11163008,   235.60318237,\n",
       "         235.60318237,  2544.89508153,   784.5424668 ,   235.60318237,\n",
       "       28667.30527722,   235.60318237,   235.60318237, 17846.13630692,\n",
       "        1844.76234069,   784.5424668 ,  2544.89508153,   235.60318237,\n",
       "         784.5424668 ,  1549.24196068,   235.60318237,  8094.9247182 ,\n",
       "         235.60318237,   235.60318237,  1549.24196068,   235.60318237,\n",
       "         235.60318237,   235.60318237,   235.60318237,   784.5424668 ,\n",
       "       74371.23799435,  9571.39120932, 17846.13630692,   235.60318237,\n",
       "         235.60318237,  8094.9247182 ,   235.60318237,  1549.24196068,\n",
       "         235.60318237,  1549.24196068,   235.60318237, 23919.94813203,\n",
       "         235.60318237,   235.60318237,  1549.24196068,   235.60318237,\n",
       "         235.60318237,   235.60318237,   235.60318237,   235.60318237,\n",
       "         235.60318237,   784.5424668 ,  4782.16015162,   235.60318237,\n",
       "         784.5424668 ,  6491.11163008,   784.5424668 ,  6491.11163008,\n",
       "       12630.93650152,   235.60318237,   784.5424668 ,  2544.89508153,\n",
       "         784.5424668 , 17846.13630692,   235.60318237,   235.60318237,\n",
       "         235.60318237,   784.5424668 ,   235.60318237,   235.60318237,\n",
       "        9571.39120932,   235.60318237,   235.60318237,  2949.71889908,\n",
       "         235.60318237,   784.5424668 ,   235.60318237,   235.60318237,\n",
       "         235.60318237,  3835.0109381 , 28667.30527722,   235.60318237,\n",
       "         235.60318237,  6919.37288136,   235.60318237,   235.60318237,\n",
       "        6491.11163008,  1844.76234069,   235.60318237,  2544.89508153])"
      ]
     },
     "execution_count": 22,
     "metadata": {},
     "output_type": "execute_result"
    }
   ],
   "source": [
    "y_pred[:100]"
   ]
  },
  {
   "cell_type": "code",
   "execution_count": 23,
   "metadata": {},
   "outputs": [],
   "source": [
    "from sklearn.linear_model import LinearRegression\n",
    "lr = LinearRegression()\n",
    "lr.fit(X_train, Y_train)\n",
    "y_pred = lr.predict(X_test)\n",
    "RMSE = mean_squared_error(Y_test, y_pred)**0.5"
   ]
  },
  {
   "cell_type": "code",
   "execution_count": 24,
   "metadata": {},
   "outputs": [],
   "source": [
    "def lr_train(data) :\n",
    "    X_train, X_test, Y_train, Y_test = SplitData(data)\n",
    "\n",
    "    # 사용할 모델\n",
    "    model = LinearRegression()\n",
    "    # define grid_search\n",
    "    model.fit(X_train,Y_train)\n",
    "    y_pred = model.predict(X_test)\n",
    "    RMSE = mean_squared_error(Y_test, y_pred)**0.5\n",
    "    return model, RMSE"
   ]
  },
  {
   "cell_type": "code",
   "execution_count": 25,
   "metadata": {},
   "outputs": [],
   "source": [
    "m, RMSE = lr_train(data)"
   ]
  },
  {
   "cell_type": "code",
   "execution_count": 26,
   "metadata": {},
   "outputs": [
    {
     "data": {
      "text/plain": [
       "4820.0365372722745"
      ]
     },
     "execution_count": 26,
     "metadata": {},
     "output_type": "execute_result"
    }
   ],
   "source": [
    "m, RMSE = lr_train(data1)\n",
    "x,y = make_xy(data4)\n",
    "model_test(m, x, y)"
   ]
  },
  {
   "cell_type": "code",
   "execution_count": 27,
   "metadata": {},
   "outputs": [],
   "source": [
    "d = {'Name': '12', 'Rank': '전설', 'Transaction_count': '1', 'Quality': '1', 'First_price': '1122', '갈증': '3', '강령술': '2', '구슬동자': '4', '': ''}"
   ]
  },
  {
   "cell_type": "code",
   "execution_count": 29,
   "metadata": {},
   "outputs": [],
   "source": [
    "f = pd.Series(d)\n",
    "index = f.index\n"
   ]
  },
  {
   "cell_type": "code",
   "execution_count": 30,
   "metadata": {},
   "outputs": [],
   "source": [
    "def to_modelinput(item_dict) :\n",
    "    f = pd.Series(item_dict)\n",
    "    index = f.index\n",
    "    full_dict = {}\n",
    "    for c in data.columns :\n",
    "        if c in f.index :\n",
    "            full_dict[c] = int(f[c])\n",
    "        elif c == 'Last_price' :\n",
    "            pass\n",
    "        else:\n",
    "            full_dict[c] = 0\n",
    "    x = [list(pd.Series(full_dict))]\n",
    "    return x\n"
   ]
  },
  {
   "cell_type": "code",
   "execution_count": 31,
   "metadata": {},
   "outputs": [],
   "source": [
    "def get_option(item_dict):\n",
    "    j = 0\n",
    "    option_name = []\n",
    "    for k in d:\n",
    "        if d[k] == '':\n",
    "            pass\n",
    "        elif j > 1 : \n",
    "            option_name.append(k)\n",
    "        j= j+1\n",
    "    return option_name"
   ]
  },
  {
   "cell_type": "code",
   "execution_count": 32,
   "metadata": {},
   "outputs": [],
   "source": [
    "def make_graph_data(option_names, data) :\n",
    "    opt_table = []\n",
    "    price_scatter = pd.DataFrame()\n",
    "    for opt_name in option_names : \n",
    "        if opt_name == 'Transaction_count' : \n",
    "            grouped = data['Last_price'].groupby(data[opt_name])\n",
    "            mean_table = grouped.mean()\n",
    "            opt_table.append(mean_table)\n",
    "\n",
    "        elif opt_name != 'First_price':\n",
    "            pre = data[data[opt_name]>0]\n",
    "            grouped = pre['Last_price'].groupby(pre[opt_name])\n",
    "            mean_table = grouped.mean()\n",
    "            opt_table.append(mean_table)\n",
    "\n",
    "        else :\n",
    "            price_scatter = data.loc[:,[opt_name, 'Last_price']]\n",
    "            price_scatter.columns = ['First_price', 'Last_price']\n",
    "    return opt_table, price_scatter\n"
   ]
  },
  {
   "cell_type": "code",
   "execution_count": 33,
   "metadata": {},
   "outputs": [],
   "source": [
    "option_names = get_option(d)\n",
    "lst = make_graph_data(option_names, data)"
   ]
  },
  {
   "cell_type": "code",
   "execution_count": 34,
   "metadata": {},
   "outputs": [
    {
     "data": {
      "text/plain": [
       "Int64Index([0, 1, 2], dtype='int64', name='Transaction_count')"
      ]
     },
     "execution_count": 34,
     "metadata": {},
     "output_type": "execute_result"
    }
   ],
   "source": [
    "lst[0][0].index"
   ]
  },
  {
   "cell_type": "code",
   "execution_count": null,
   "metadata": {},
   "outputs": [],
   "source": []
  }
 ],
 "metadata": {
  "kernelspec": {
   "display_name": "Python 3",
   "language": "python",
   "name": "python3"
  },
  "language_info": {
   "codemirror_mode": {
    "name": "ipython",
    "version": 3
   },
   "file_extension": ".py",
   "mimetype": "text/x-python",
   "name": "python",
   "nbconvert_exporter": "python",
   "pygments_lexer": "ipython3",
   "version": "3.8.5"
  }
 },
 "nbformat": 4,
 "nbformat_minor": 4
}
